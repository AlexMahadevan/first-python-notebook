{
 "cells": [
  {
   "cell_type": "code",
   "execution_count": 1,
   "metadata": {
    "collapsed": true
   },
   "outputs": [],
   "source": [
    "import pandas as pd"
   ]
  },
  {
   "cell_type": "code",
   "execution_count": 2,
   "metadata": {
    "collapsed": true
   },
   "outputs": [],
   "source": [
    "import numpy"
   ]
  },
  {
   "cell_type": "code",
   "execution_count": 3,
   "metadata": {
    "collapsed": true
   },
   "outputs": [],
   "source": [
    "walmart = pd.read_csv(\"/Users/alexmahadevan/Desktop/Workbook1.csv\")"
   ]
  },
  {
   "cell_type": "code",
   "execution_count": 8,
   "metadata": {},
   "outputs": [
    {
     "data": {
      "text/plain": [
       "Florida           17\n",
       "New York          14\n",
       "Georgia           11\n",
       "Illinois          11\n",
       "California        10\n",
       "North Carolina     9\n",
       "Pennsylvania       8\n",
       "South Carolina     8\n",
       "Minnesota          6\n",
       "Wisconsin          6\n",
       "Texas              5\n",
       "Ohio               4\n",
       "Utah               4\n",
       "Mississippi        4\n",
       "Virginia           3\n",
       "Idaho              3\n",
       "Nevada             3\n",
       "Washington         3\n",
       "Indiana            3\n",
       "Tennessee          3\n",
       "Louisiana          3\n",
       "Maryland           3\n",
       "Kentucky           3\n",
       "Iowa               3\n",
       "Colorado           3\n",
       "florida            3\n",
       "New york           2\n",
       "Kansas             2\n",
       "Michigan           2\n",
       "South Dakota       2\n",
       "New Jersey         2\n",
       "Vermont            1\n",
       "ILLINOIS           1\n",
       "Montana            1\n",
       "Greenwood          1\n",
       "MN                 1\n",
       "Mn.                1\n",
       "West Virginia      1\n",
       "Delaware           1\n",
       "Massachussets      1\n",
       "ohio               1\n",
       "LA                 1\n",
       "Missouri           1\n",
       "Arizona            1\n",
       "Name: State, dtype: int64"
      ]
     },
     "execution_count": 8,
     "metadata": {},
     "output_type": "execute_result"
    }
   ],
   "source": [
    "walmart.State.value_counts()"
   ]
  },
  {
   "cell_type": "raw",
   "metadata": {},
   "source": []
  },
  {
   "cell_type": "markdown",
   "metadata": {},
   "source": []
  },
  {
   "cell_type": "code",
   "execution_count": null,
   "metadata": {
    "collapsed": true
   },
   "outputs": [],
   "source": []
  }
 ],
 "metadata": {
  "kernelspec": {
   "display_name": "Python 2",
   "language": "python",
   "name": "python2"
  },
  "language_info": {
   "codemirror_mode": {
    "name": "ipython",
    "version": 2
   },
   "file_extension": ".py",
   "mimetype": "text/x-python",
   "name": "python",
   "nbconvert_exporter": "python",
   "pygments_lexer": "ipython2",
   "version": "2.7.10"
  }
 },
 "nbformat": 4,
 "nbformat_minor": 2
}
