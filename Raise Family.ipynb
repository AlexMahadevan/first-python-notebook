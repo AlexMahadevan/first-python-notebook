{
 "cells": [
  {
   "cell_type": "markdown",
   "metadata": {},
   "source": [
    "# ‘Affordable Places to Raise a Family’ Analysis\n",
    "\n",
    "by Alex Mahadevan, Age 29"
   ]
  },
  {
   "cell_type": "code",
   "execution_count": 2,
   "metadata": {
    "collapsed": true
   },
   "outputs": [],
   "source": [
    "import pandas as pd"
   ]
  },
  {
   "cell_type": "markdown",
   "metadata": {},
   "source": [
    "### Population, Migration and Births\n",
    "\n",
    "<p>Let's read in the population dataset from 2010 - 2016. As a plus it has births and migration data we can use in the analysis.</p>\n",
    "<p>Data is courtesy of the [U.S. Census Bureau](https://www2.census.gov/programs-surveys/popest/datasets/2010-2016/metro/totals/cbsa-est2016-alldata.csv).</p>"
   ]
  },
  {
   "cell_type": "code",
   "execution_count": 3,
   "metadata": {
    "collapsed": true
   },
   "outputs": [],
   "source": [
    "df = pd.read_csv(\"/Users/alexmahadevan/Desktop/Projects/Raise a Family/cbsa-est2016-alldata.csv\")"
   ]
  },
  {
   "cell_type": "markdown",
   "metadata": {},
   "source": [
    "<p>If people are moving to a county or metropolitan area, that probably means it's a good place to live.</p>\n",
    "\n",
    "<p>So we'll go ahead and create a new variable that takes into account the average annual net migration to a region called AVG_NETMIG. The higher the number, the greater average migration to the municipality.</p>\n",
    "<p>But, wait. Won't way more people be moving to a huge city like Miami than a smaller one like Sarasota?</p>\n",
    "<p>To control for population amount, let's find the net migration per capita by diving net migration in each year by the population estimate for that year.</p>"
   ]
  },
  {
   "cell_type": "code",
   "execution_count": 4,
   "metadata": {
    "collapsed": true
   },
   "outputs": [],
   "source": [
    "df['AVG_NETMIG'] = (df['NETMIG2010']/df['POPESTIMATE2010'] + df['NETMIG2011']/df['POPESTIMATE2011'] +\n",
    "df['NETMIG2012']/df['POPESTIMATE2012'] + df['NETMIG2013']/df['POPESTIMATE2013'] +\n",
    "df['NETMIG2014']/df['POPESTIMATE2014'] + df['NETMIG2015']/df['POPESTIMATE2015'] +\n",
    "df['NETMIG2015']/df['POPESTIMATE2015'])/7"
   ]
  },
  {
   "cell_type": "markdown",
   "metadata": {},
   "source": [
    "<p>But, we also want to take into account the overall change in population between 2010 and 2016</p>\n",
    "\n",
    "<p>So we will create a new variable called POP_CHANGE</p>"
   ]
  },
  {
   "cell_type": "code",
   "execution_count": 5,
   "metadata": {
    "collapsed": true
   },
   "outputs": [],
   "source": [
    "df['POP_CHANGE'] = (df['POPESTIMATE2016'] - df['POPESTIMATE2010']) / df['POPESTIMATE2010']"
   ]
  },
  {
   "cell_type": "markdown",
   "metadata": {},
   "source": [
    "<p>You probably want to raise a family where other people hare raising a family right?</p>\n",
    "<p>This statistics may not be the best (since sometimes high birth rates correlate with poverty), but let's create a new variable for births per capita for 2016.</p>\n",
    "<p>We shall call it BIRTHS_PER_CAPITA.</p>"
   ]
  },
  {
   "cell_type": "code",
   "execution_count": 6,
   "metadata": {
    "collapsed": true
   },
   "outputs": [],
   "source": [
    "df['BIRTHS_PER_CAPITA'] = df['BIRTHS2016']/df['POPESTIMATE2016']"
   ]
  },
  {
   "cell_type": "markdown",
   "metadata": {},
   "source": [
    "<p>Are there any other variables we can create that would be important to someone looking to raise a family?</p>\n",
    "\n",
    "<p>Not from this dataset, but while we're thinking about it, let's drill it down to the 382 metropolitan statistical areas.</p>\n",
    "\n",
    "<p>First, let's count the number of types in the variable LSAD to make sure we have 382.</p>"
   ]
  },
  {
   "cell_type": "code",
   "execution_count": 7,
   "metadata": {},
   "outputs": [
    {
     "data": {
      "text/plain": [
       "County or equivalent             1825\n",
       "Micropolitan Statistical Area     551\n",
       "Metropolitan Statistical Area     382\n",
       "Metropolitan Division              31\n",
       "Name: LSAD, dtype: int64"
      ]
     },
     "execution_count": 7,
     "metadata": {},
     "output_type": "execute_result"
    }
   ],
   "source": [
    "df.LSAD.value_counts()"
   ]
  },
  {
   "cell_type": "markdown",
   "metadata": {},
   "source": [
    "<p>Success! Now, let's drill it down by creating a new dataframe called MSA_POP.</p>"
   ]
  },
  {
   "cell_type": "code",
   "execution_count": 8,
   "metadata": {
    "collapsed": true
   },
   "outputs": [],
   "source": [
    "MSA_POP = df[df.LSAD == 'Metropolitan Statistical Area']"
   ]
  },
  {
   "cell_type": "markdown",
   "metadata": {},
   "source": [
    "<p>Let's just leave that there for now, and explore other variables we can add to this analysis.</p>"
   ]
  },
  {
   "cell_type": "markdown",
   "metadata": {},
   "source": [
    "### Museums\n",
    "\n",
    "<p>I found a data set that has all of the museums in cities, let's have a look at that.</p>"
   ]
  },
  {
   "cell_type": "code",
   "execution_count": 9,
   "metadata": {
    "collapsed": true
   },
   "outputs": [],
   "source": [
    "MUSEUM = pd.read_csv(\"/Users/alexmahadevan/Desktop/Projects/Raise a Family/Workbook1.csv\")"
   ]
  },
  {
   "cell_type": "code",
   "execution_count": 10,
   "metadata": {},
   "outputs": [
    {
     "data": {
      "text/html": [
       "<div>\n",
       "<style>\n",
       "    .dataframe thead tr:only-child th {\n",
       "        text-align: right;\n",
       "    }\n",
       "\n",
       "    .dataframe thead th {\n",
       "        text-align: left;\n",
       "    }\n",
       "\n",
       "    .dataframe tbody tr th {\n",
       "        vertical-align: top;\n",
       "    }\n",
       "</style>\n",
       "<table border=\"1\" class=\"dataframe\">\n",
       "  <thead>\n",
       "    <tr style=\"text-align: right;\">\n",
       "      <th></th>\n",
       "      <th>ADCITY</th>\n",
       "      <th>ADSTATE</th>\n",
       "      <th>Unnamed: 2</th>\n",
       "    </tr>\n",
       "  </thead>\n",
       "  <tbody>\n",
       "    <tr>\n",
       "      <th>0</th>\n",
       "      <td>SITKA</td>\n",
       "      <td>AK</td>\n",
       "      <td>SITKA, AK</td>\n",
       "    </tr>\n",
       "    <tr>\n",
       "      <th>1</th>\n",
       "      <td>KING SALMON</td>\n",
       "      <td>AK</td>\n",
       "      <td>KING SALMON, AK</td>\n",
       "    </tr>\n",
       "    <tr>\n",
       "      <th>2</th>\n",
       "      <td>FAIRBANKS</td>\n",
       "      <td>AK</td>\n",
       "      <td>FAIRBANKS, AK</td>\n",
       "    </tr>\n",
       "    <tr>\n",
       "      <th>3</th>\n",
       "      <td>PALMER</td>\n",
       "      <td>AK</td>\n",
       "      <td>PALMER, AK</td>\n",
       "    </tr>\n",
       "    <tr>\n",
       "      <th>4</th>\n",
       "      <td>KODIAK</td>\n",
       "      <td>AK</td>\n",
       "      <td>KODIAK, AK</td>\n",
       "    </tr>\n",
       "  </tbody>\n",
       "</table>\n",
       "</div>"
      ],
      "text/plain": [
       "        ADCITY ADSTATE       Unnamed: 2\n",
       "0        SITKA      AK        SITKA, AK\n",
       "1  KING SALMON      AK  KING SALMON, AK\n",
       "2    FAIRBANKS      AK    FAIRBANKS, AK\n",
       "3       PALMER      AK       PALMER, AK\n",
       "4       KODIAK      AK       KODIAK, AK"
      ]
     },
     "execution_count": 10,
     "metadata": {},
     "output_type": "execute_result"
    }
   ],
   "source": [
    "MUSEUM.head()"
   ]
  },
  {
   "cell_type": "markdown",
   "metadata": {},
   "source": [
    "<p>As you can see, we need to concatenate the city and state variables since there are a ton of similarly named cities throughout U.S. states</p>"
   ]
  },
  {
   "cell_type": "code",
   "execution_count": 11,
   "metadata": {
    "collapsed": true
   },
   "outputs": [],
   "source": [
    "MUSEUM['CITY'] = MUSEUM['ADCITY'] + \", \" + MUSEUM['ADSTATE']"
   ]
  },
  {
   "cell_type": "code",
   "execution_count": 12,
   "metadata": {},
   "outputs": [
    {
     "data": {
      "text/plain": [
       "NEW YORK, NY            297\n",
       "CHICAGO, IL             193\n",
       "WASHINGTON, DC          188\n",
       "PHILADELPHIA, PA        179\n",
       "LOS ANGELES, CA         162\n",
       "HOUSTON, TX             133\n",
       "BALTIMORE, MD           120\n",
       "SAN FRANCISCO, CA       119\n",
       "SEATTLE, WA             103\n",
       "AUSTIN, TX               96\n",
       "PORTLAND, OR             96\n",
       "SAN DIEGO, CA            96\n",
       "DALLAS, TX               94\n",
       "BOSTON, MA               93\n",
       "DENVER, CO               89\n",
       "ATLANTA, GA              87\n",
       "PITTSBURGH, PA           84\n",
       "BROOKLYN, NY             77\n",
       "LOUISVILLE, KY           76\n",
       "CINCINNATI, OH           76\n",
       "NEW ORLEANS, LA          72\n",
       "MILWAUKEE, WI            70\n",
       "RICHMOND, VA             69\n",
       "SAN ANTONIO, TX          69\n",
       "ALBUQUERQUE, NM          68\n",
       "TUCSON, AZ               68\n",
       "HUGO, OK                 67\n",
       "CLEVELAND, OH            65\n",
       "HONOLULU, HI             64\n",
       "MIAMI, FL                64\n",
       "                       ... \n",
       "HOUSTON TX, TX            1\n",
       "FOREST PARK, GA           1\n",
       "READS LANDING, MN         1\n",
       "FREEPORT, MI              1\n",
       "MOULTRIE, GA              1\n",
       "COALGATE, OK              1\n",
       "LYONS, OH                 1\n",
       "OFALLON, MO               1\n",
       "GALETON, PA               1\n",
       "BUTTE FALLS, OR           1\n",
       "FREEPORT, TX              1\n",
       "N FT MYERS, FL            1\n",
       "WARREN, AR                1\n",
       "COLE CAMP, MO             1\n",
       "MONMOUTH, ME              1\n",
       "NOTTINGHAM, NH            1\n",
       "ELIZABETH CIT, NC         1\n",
       "GRAND COULEE, WA          1\n",
       "BAY PORT, MI              1\n",
       "DUNDEE, NY                1\n",
       "ISLE, MN                  1\n",
       "DIX HILLS, NY             1\n",
       "FLORESVILLE, TX           1\n",
       "SANTA ROSA BEACH, FL      1\n",
       "N MANCHESTER, IN          1\n",
       "BEOOKFIELD, WI            1\n",
       "LAKE BUTLER, FL           1\n",
       "SOUTH FORK, CO            1\n",
       "BASEHOR, KS               1\n",
       "GREENVILLE, AL            1\n",
       "Name: CITY, Length: 12022, dtype: int64"
      ]
     },
     "execution_count": 12,
     "metadata": {},
     "output_type": "execute_result"
    }
   ],
   "source": [
    "MUSEUM.CITY.value_counts()"
   ]
  },
  {
   "cell_type": "code",
   "execution_count": 13,
   "metadata": {},
   "outputs": [],
   "source": [
    "MUSEUM_CITIES = MUSEUM.CITY.value_counts()"
   ]
  },
  {
   "cell_type": "code",
   "execution_count": 14,
   "metadata": {},
   "outputs": [
    {
     "data": {
      "text/plain": [
       "NEW YORK, NY        297\n",
       "CHICAGO, IL         193\n",
       "WASHINGTON, DC      188\n",
       "PHILADELPHIA, PA    179\n",
       "LOS ANGELES, CA     162\n",
       "Name: CITY, dtype: int64"
      ]
     },
     "execution_count": 14,
     "metadata": {},
     "output_type": "execute_result"
    }
   ],
   "source": [
    "MUSEUM_CITIES.head()"
   ]
  },
  {
   "cell_type": "code",
   "execution_count": null,
   "metadata": {
    "collapsed": true
   },
   "outputs": [],
   "source": []
  }
 ],
 "metadata": {
  "kernelspec": {
   "display_name": "Python 2",
   "language": "python",
   "name": "python2"
  },
  "language_info": {
   "codemirror_mode": {
    "name": "ipython",
    "version": 2
   },
   "file_extension": ".py",
   "mimetype": "text/x-python",
   "name": "python",
   "nbconvert_exporter": "python",
   "pygments_lexer": "ipython2",
   "version": "2.7.10"
  }
 },
 "nbformat": 4,
 "nbformat_minor": 2
}
