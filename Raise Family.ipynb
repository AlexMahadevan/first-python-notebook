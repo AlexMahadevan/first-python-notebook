{
 "cells": [
  {
   "cell_type": "markdown",
   "metadata": {},
   "source": [
    "# ‘Affordable Places to Raise a Family’ Analysis\n",
    "\n",
    "by Alex Mahadevan"
   ]
  },
  {
   "cell_type": "code",
   "execution_count": 1,
   "metadata": {
    "collapsed": true
   },
   "outputs": [],
   "source": [
    "import pandas as pd"
   ]
  },
  {
   "cell_type": "markdown",
   "metadata": {},
   "source": [
    "### Population, Migration and Births\n",
    "\n",
    "<p>Let's read in the population dataset from 2010 - 2016. As a plus it has births and migration data we can use in the analysis.</p>\n",
    "<p>Data is courtesy of the [U.S. Census Bureau](https://www2.census.gov/programs-surveys/popest/datasets/2010-2016/metro/totals/cbsa-est2016-alldata.csv).</p>"
   ]
  },
  {
   "cell_type": "code",
   "execution_count": 2,
   "metadata": {
    "collapsed": true
   },
   "outputs": [],
   "source": [
    "df = pd.read_csv(\"/Users/alexmahadevan/Desktop/Projects/Raise a Family/cbsa-est2016-alldata.csv\")"
   ]
  },
  {
   "cell_type": "markdown",
   "metadata": {},
   "source": [
    "<p>If people are moving to a county or metropolitan area, that probably means it's a good place to live.</p>\n",
    "\n",
    "<p>So we'll go ahead and create a new variable that takes into account the average annual net migration to a region called AVG_NETMIG. The higher the number, the greater average migration to the municipality.</p>\n",
    "<p>But, wait. Won't way more people be moving to a huge city like Miami than a smaller one like Sarasota?</p>\n",
    "<p>To control for population amount, let's find the net migration per capita by diving net migration in each year by the population estimate for that year.</p>"
   ]
  },
  {
   "cell_type": "code",
   "execution_count": 3,
   "metadata": {
    "collapsed": true
   },
   "outputs": [],
   "source": [
    "df['AVG_NETMIG'] = (df['NETMIG2010']/df['POPESTIMATE2010'] + df['NETMIG2011']/df['POPESTIMATE2011'] +\n",
    "df['NETMIG2012']/df['POPESTIMATE2012'] + df['NETMIG2013']/df['POPESTIMATE2013'] +\n",
    "df['NETMIG2014']/df['POPESTIMATE2014'] + df['NETMIG2015']/df['POPESTIMATE2015'] +\n",
    "df['NETMIG2015']/df['POPESTIMATE2015'])/7"
   ]
  },
  {
   "cell_type": "markdown",
   "metadata": {},
   "source": [
    "<p>But, we also want to take into account the overall change in population between 2010 and 2016.</p>\n",
    "\n",
    "<p>So we will create a new variable called POP_CHANGE.</p>"
   ]
  },
  {
   "cell_type": "code",
   "execution_count": 4,
   "metadata": {
    "collapsed": true
   },
   "outputs": [],
   "source": [
    "df['POP_CHANGE'] = (df['POPESTIMATE2016'] - df['POPESTIMATE2010']) / df['POPESTIMATE2010']"
   ]
  },
  {
   "cell_type": "markdown",
   "metadata": {},
   "source": [
    "<p>You probably want to raise a family where other people are raising a family right?</p>\n",
    "<p>This statistics may not be the best (since sometimes high birth rates correlate with poverty), but let's create a new variable for births per capita for 2016.</p>\n",
    "<p>We shall call it BIRTHS_PER_CAPITA.</p>"
   ]
  },
  {
   "cell_type": "code",
   "execution_count": 5,
   "metadata": {
    "collapsed": true
   },
   "outputs": [],
   "source": [
    "df['BIRTHS_PER_CAPITA'] = df['BIRTHS2016']/df['POPESTIMATE2016']"
   ]
  },
  {
   "cell_type": "markdown",
   "metadata": {},
   "source": [
    "<p>Are there any other variables we can create that would be important to someone looking to raise a family?</p>\n",
    "\n",
    "<p>Not from this dataset, but while we're thinking about it, let's drill it down to the 382 metropolitan statistical areas.</p>\n",
    "\n",
    "<p>First, let's count the number of types in the variable LSAD to make sure we have 382.</p>"
   ]
  },
  {
   "cell_type": "code",
   "execution_count": 6,
   "metadata": {},
   "outputs": [
    {
     "data": {
      "text/plain": [
       "County or equivalent             1825\n",
       "Micropolitan Statistical Area     551\n",
       "Metropolitan Statistical Area     382\n",
       "Metropolitan Division              31\n",
       "Name: LSAD, dtype: int64"
      ]
     },
     "execution_count": 6,
     "metadata": {},
     "output_type": "execute_result"
    }
   ],
   "source": [
    "df.LSAD.value_counts()"
   ]
  },
  {
   "cell_type": "markdown",
   "metadata": {},
   "source": [
    "<p>Success! Now, let's drill it down by creating a new dataframe called MSA_POP.</p>"
   ]
  },
  {
   "cell_type": "code",
   "execution_count": 7,
   "metadata": {
    "collapsed": true
   },
   "outputs": [],
   "source": [
    "MSA_POP = df[df.LSAD == 'Metropolitan Statistical Area']"
   ]
  },
  {
   "cell_type": "markdown",
   "metadata": {},
   "source": [
    "<p><b>Let's just leave that there for now, and explore other variables we can add to this analysis.</b></p>"
   ]
  },
  {
   "cell_type": "markdown",
   "metadata": {},
   "source": [
    "### Museums\n",
    "\n",
    "<p>I found a data set that has all of the museums in cities, let's have a look at that.</p>"
   ]
  },
  {
   "cell_type": "code",
   "execution_count": 8,
   "metadata": {
    "collapsed": true
   },
   "outputs": [],
   "source": [
    "MUSEUM = pd.read_csv(\"/Users/alexmahadevan/Desktop/Projects/Raise a Family/Workbook1.csv\")"
   ]
  },
  {
   "cell_type": "code",
   "execution_count": 9,
   "metadata": {},
   "outputs": [
    {
     "data": {
      "text/html": [
       "<div>\n",
       "<style>\n",
       "    .dataframe thead tr:only-child th {\n",
       "        text-align: right;\n",
       "    }\n",
       "\n",
       "    .dataframe thead th {\n",
       "        text-align: left;\n",
       "    }\n",
       "\n",
       "    .dataframe tbody tr th {\n",
       "        vertical-align: top;\n",
       "    }\n",
       "</style>\n",
       "<table border=\"1\" class=\"dataframe\">\n",
       "  <thead>\n",
       "    <tr style=\"text-align: right;\">\n",
       "      <th></th>\n",
       "      <th>ADCITY</th>\n",
       "      <th>ADSTATE</th>\n",
       "      <th>Unnamed: 2</th>\n",
       "    </tr>\n",
       "  </thead>\n",
       "  <tbody>\n",
       "    <tr>\n",
       "      <th>0</th>\n",
       "      <td>SITKA</td>\n",
       "      <td>AK</td>\n",
       "      <td>SITKA, AK</td>\n",
       "    </tr>\n",
       "    <tr>\n",
       "      <th>1</th>\n",
       "      <td>KING SALMON</td>\n",
       "      <td>AK</td>\n",
       "      <td>KING SALMON, AK</td>\n",
       "    </tr>\n",
       "    <tr>\n",
       "      <th>2</th>\n",
       "      <td>FAIRBANKS</td>\n",
       "      <td>AK</td>\n",
       "      <td>FAIRBANKS, AK</td>\n",
       "    </tr>\n",
       "    <tr>\n",
       "      <th>3</th>\n",
       "      <td>PALMER</td>\n",
       "      <td>AK</td>\n",
       "      <td>PALMER, AK</td>\n",
       "    </tr>\n",
       "    <tr>\n",
       "      <th>4</th>\n",
       "      <td>KODIAK</td>\n",
       "      <td>AK</td>\n",
       "      <td>KODIAK, AK</td>\n",
       "    </tr>\n",
       "  </tbody>\n",
       "</table>\n",
       "</div>"
      ],
      "text/plain": [
       "        ADCITY ADSTATE       Unnamed: 2\n",
       "0        SITKA      AK        SITKA, AK\n",
       "1  KING SALMON      AK  KING SALMON, AK\n",
       "2    FAIRBANKS      AK    FAIRBANKS, AK\n",
       "3       PALMER      AK       PALMER, AK\n",
       "4       KODIAK      AK       KODIAK, AK"
      ]
     },
     "execution_count": 9,
     "metadata": {},
     "output_type": "execute_result"
    }
   ],
   "source": [
    "MUSEUM.head()"
   ]
  },
  {
   "cell_type": "markdown",
   "metadata": {},
   "source": [
    "<p>As you can see, we need to concatenate the city and state variables since there are a ton of similarly named cities throughout U.S. states</p>"
   ]
  },
  {
   "cell_type": "code",
   "execution_count": 10,
   "metadata": {
    "collapsed": true
   },
   "outputs": [],
   "source": [
    "MUSEUM['CITY'] = MUSEUM['ADCITY'] + \", \" + MUSEUM['ADSTATE']"
   ]
  },
  {
   "cell_type": "code",
   "execution_count": 11,
   "metadata": {},
   "outputs": [
    {
     "data": {
      "text/plain": [
       "NEW YORK, NY            297\n",
       "CHICAGO, IL             193\n",
       "WASHINGTON, DC          188\n",
       "PHILADELPHIA, PA        179\n",
       "LOS ANGELES, CA         162\n",
       "HOUSTON, TX             133\n",
       "BALTIMORE, MD           120\n",
       "SAN FRANCISCO, CA       119\n",
       "SEATTLE, WA             103\n",
       "AUSTIN, TX               96\n",
       "PORTLAND, OR             96\n",
       "SAN DIEGO, CA            96\n",
       "DALLAS, TX               94\n",
       "BOSTON, MA               93\n",
       "DENVER, CO               89\n",
       "ATLANTA, GA              87\n",
       "PITTSBURGH, PA           84\n",
       "BROOKLYN, NY             77\n",
       "LOUISVILLE, KY           76\n",
       "CINCINNATI, OH           76\n",
       "NEW ORLEANS, LA          72\n",
       "MILWAUKEE, WI            70\n",
       "RICHMOND, VA             69\n",
       "SAN ANTONIO, TX          69\n",
       "ALBUQUERQUE, NM          68\n",
       "TUCSON, AZ               68\n",
       "HUGO, OK                 67\n",
       "CLEVELAND, OH            65\n",
       "HONOLULU, HI             64\n",
       "MIAMI, FL                64\n",
       "                       ... \n",
       "HOUSTON TX, TX            1\n",
       "FOREST PARK, GA           1\n",
       "READS LANDING, MN         1\n",
       "FREEPORT, MI              1\n",
       "MOULTRIE, GA              1\n",
       "COALGATE, OK              1\n",
       "LYONS, OH                 1\n",
       "OFALLON, MO               1\n",
       "GALETON, PA               1\n",
       "BUTTE FALLS, OR           1\n",
       "FREEPORT, TX              1\n",
       "N FT MYERS, FL            1\n",
       "WARREN, AR                1\n",
       "COLE CAMP, MO             1\n",
       "MONMOUTH, ME              1\n",
       "NOTTINGHAM, NH            1\n",
       "ELIZABETH CIT, NC         1\n",
       "GRAND COULEE, WA          1\n",
       "BAY PORT, MI              1\n",
       "DUNDEE, NY                1\n",
       "ISLE, MN                  1\n",
       "DIX HILLS, NY             1\n",
       "FLORESVILLE, TX           1\n",
       "SANTA ROSA BEACH, FL      1\n",
       "N MANCHESTER, IN          1\n",
       "BEOOKFIELD, WI            1\n",
       "LAKE BUTLER, FL           1\n",
       "SOUTH FORK, CO            1\n",
       "BASEHOR, KS               1\n",
       "GREENVILLE, AL            1\n",
       "Name: CITY, Length: 12022, dtype: int64"
      ]
     },
     "execution_count": 11,
     "metadata": {},
     "output_type": "execute_result"
    }
   ],
   "source": [
    "MUSEUM.CITY.value_counts()"
   ]
  },
  {
   "cell_type": "markdown",
   "metadata": {},
   "source": [
    "<p>Now, let's create a new database with each city and the amount of museums in each.</p>"
   ]
  },
  {
   "cell_type": "code",
   "execution_count": 12,
   "metadata": {
    "collapsed": true
   },
   "outputs": [],
   "source": [
    "MUSEUM_CITIES = MUSEUM.CITY.value_counts()"
   ]
  },
  {
   "cell_type": "code",
   "execution_count": 13,
   "metadata": {},
   "outputs": [
    {
     "data": {
      "text/plain": [
       "NEW YORK, NY        297\n",
       "CHICAGO, IL         193\n",
       "WASHINGTON, DC      188\n",
       "PHILADELPHIA, PA    179\n",
       "LOS ANGELES, CA     162\n",
       "Name: CITY, dtype: int64"
      ]
     },
     "execution_count": 13,
     "metadata": {},
     "output_type": "execute_result"
    }
   ],
   "source": [
    "MUSEUM_CITIES.head()"
   ]
  },
  {
   "cell_type": "markdown",
   "metadata": {
    "collapsed": true
   },
   "source": [
    "<p>Eventually, we should adjust this for population, but 12,022 is a lot of cities to do that with.</p>\n",
    "<p>So let's leave that database there for now until we pare down our metro data, then we can match the cities with metros that are statistically significant with their museum score.</p>"
   ]
  },
  {
   "cell_type": "markdown",
   "metadata": {},
   "source": [
    "<p><b>Let's find some more data to mess with</b></p>"
   ]
  },
  {
   "cell_type": "markdown",
   "metadata": {},
   "source": [
    "### Home Prices\n",
    "<p>This data is courtesy of the [National Association of Realtors](https://www.nar.realtor/topics/metropolitan-median-area-prices-and-affordability).\n",
    "\n",
    "<p>The numbers are in thousands.</p>"
   ]
  },
  {
   "cell_type": "code",
   "execution_count": 14,
   "metadata": {
    "collapsed": true
   },
   "outputs": [],
   "source": [
    "HOME_PRICES = pd.read_csv(\"/Users/alexmahadevan/Desktop/Projects/Raise a Family/Homeprices.csv\")"
   ]
  },
  {
   "cell_type": "code",
   "execution_count": 15,
   "metadata": {},
   "outputs": [
    {
     "data": {
      "text/html": [
       "<div>\n",
       "<style>\n",
       "    .dataframe thead tr:only-child th {\n",
       "        text-align: right;\n",
       "    }\n",
       "\n",
       "    .dataframe thead th {\n",
       "        text-align: left;\n",
       "    }\n",
       "\n",
       "    .dataframe tbody tr th {\n",
       "        vertical-align: top;\n",
       "    }\n",
       "</style>\n",
       "<table border=\"1\" class=\"dataframe\">\n",
       "  <thead>\n",
       "    <tr style=\"text-align: right;\">\n",
       "      <th></th>\n",
       "      <th>CBSA</th>\n",
       "      <th>Metropolitan Area</th>\n",
       "      <th>2014</th>\n",
       "      <th>2015</th>\n",
       "      <th>2016</th>\n",
       "      <th>2017</th>\n",
       "      <th>Change</th>\n",
       "    </tr>\n",
       "  </thead>\n",
       "  <tbody>\n",
       "    <tr>\n",
       "      <th>0</th>\n",
       "      <td>10180</td>\n",
       "      <td>Abilene, TX</td>\n",
       "      <td>136.2</td>\n",
       "      <td>151.7</td>\n",
       "      <td>157.5</td>\n",
       "      <td>158.8</td>\n",
       "      <td>2.2%</td>\n",
       "    </tr>\n",
       "  </tbody>\n",
       "</table>\n",
       "</div>"
      ],
      "text/plain": [
       "    CBSA Metropolitan Area   2014   2015   2016   2017 Change\n",
       "0  10180       Abilene, TX  136.2  151.7  157.5  158.8   2.2%"
      ]
     },
     "execution_count": 15,
     "metadata": {},
     "output_type": "execute_result"
    }
   ],
   "source": [
    "HOME_PRICES.head(1)"
   ]
  },
  {
   "cell_type": "markdown",
   "metadata": {
    "collapsed": true
   },
   "source": [
    "<p>Again, we have created the dataframe, so let's just leave it here for now and continue.</p>"
   ]
  },
  {
   "cell_type": "markdown",
   "metadata": {},
   "source": [
    "### Population, Migration and Births (Counties)\n",
    "<p>Here we're doing essentially what we did above with metropolitan statistical areas, but with counties, to give us another option for a starting point.</p>\n",
    "<p>Data is also courtesy of the [U.S. Census Bureau](https://www2.census.gov/programs-surveys/popest/datasets/2010-2016/counties/totals/co-est2016-alldata.csv)"
   ]
  },
  {
   "cell_type": "code",
   "execution_count": 18,
   "metadata": {},
   "outputs": [],
   "source": [
    "df_COUNTY = pd.read_csv(\"/Users/alexmahadevan/Desktop/Projects/Raise a Family/co-est2016-alldata.csv\")"
   ]
  },
  {
   "cell_type": "code",
   "execution_count": 19,
   "metadata": {},
   "outputs": [
    {
     "data": {
      "text/html": [
       "<div>\n",
       "<style>\n",
       "    .dataframe thead tr:only-child th {\n",
       "        text-align: right;\n",
       "    }\n",
       "\n",
       "    .dataframe thead th {\n",
       "        text-align: left;\n",
       "    }\n",
       "\n",
       "    .dataframe tbody tr th {\n",
       "        vertical-align: top;\n",
       "    }\n",
       "</style>\n",
       "<table border=\"1\" class=\"dataframe\">\n",
       "  <thead>\n",
       "    <tr style=\"text-align: right;\">\n",
       "      <th></th>\n",
       "      <th>SUMLEV</th>\n",
       "      <th>REGION</th>\n",
       "      <th>DIVISION</th>\n",
       "      <th>STATE</th>\n",
       "      <th>COUNTY</th>\n",
       "      <th>STNAME</th>\n",
       "      <th>CTYNAME</th>\n",
       "      <th>CENSUS2010POP</th>\n",
       "      <th>ESTIMATESBASE2010</th>\n",
       "      <th>POPESTIMATE2010</th>\n",
       "      <th>...</th>\n",
       "      <th>RDOMESTICMIG2013</th>\n",
       "      <th>RDOMESTICMIG2014</th>\n",
       "      <th>RDOMESTICMIG2015</th>\n",
       "      <th>RDOMESTICMIG2016</th>\n",
       "      <th>RNETMIG2011</th>\n",
       "      <th>RNETMIG2012</th>\n",
       "      <th>RNETMIG2013</th>\n",
       "      <th>RNETMIG2014</th>\n",
       "      <th>RNETMIG2015</th>\n",
       "      <th>RNETMIG2016</th>\n",
       "    </tr>\n",
       "  </thead>\n",
       "  <tbody>\n",
       "    <tr>\n",
       "      <th>0</th>\n",
       "      <td>40</td>\n",
       "      <td>3</td>\n",
       "      <td>6</td>\n",
       "      <td>1</td>\n",
       "      <td>0</td>\n",
       "      <td>Alabama</td>\n",
       "      <td>Alabama</td>\n",
       "      <td>4779736</td>\n",
       "      <td>4780131</td>\n",
       "      <td>4785492</td>\n",
       "      <td>...</td>\n",
       "      <td>0.335703</td>\n",
       "      <td>0.086842</td>\n",
       "      <td>-0.642255</td>\n",
       "      <td>-0.177829</td>\n",
       "      <td>0.709411</td>\n",
       "      <td>1.062617</td>\n",
       "      <td>1.202226</td>\n",
       "      <td>1.065267</td>\n",
       "      <td>0.41167</td>\n",
       "      <td>0.797351</td>\n",
       "    </tr>\n",
       "  </tbody>\n",
       "</table>\n",
       "<p>1 rows × 116 columns</p>\n",
       "</div>"
      ],
      "text/plain": [
       "   SUMLEV  REGION  DIVISION  STATE  COUNTY   STNAME  CTYNAME  CENSUS2010POP  \\\n",
       "0      40       3         6      1       0  Alabama  Alabama        4779736   \n",
       "\n",
       "   ESTIMATESBASE2010  POPESTIMATE2010     ...       RDOMESTICMIG2013  \\\n",
       "0            4780131          4785492     ...               0.335703   \n",
       "\n",
       "   RDOMESTICMIG2014  RDOMESTICMIG2015  RDOMESTICMIG2016  RNETMIG2011  \\\n",
       "0          0.086842         -0.642255         -0.177829     0.709411   \n",
       "\n",
       "   RNETMIG2012  RNETMIG2013  RNETMIG2014  RNETMIG2015  RNETMIG2016  \n",
       "0     1.062617     1.202226     1.065267      0.41167     0.797351  \n",
       "\n",
       "[1 rows x 116 columns]"
      ]
     },
     "execution_count": 19,
     "metadata": {},
     "output_type": "execute_result"
    }
   ],
   "source": [
    "df_COUNTY.head(1)"
   ]
  },
  {
   "cell_type": "markdown",
   "metadata": {},
   "source": [
    "<p>Just as we did with metros, let's find the average net migration for the county dataframe.</p>"
   ]
  },
  {
   "cell_type": "code",
   "execution_count": 20,
   "metadata": {
    "collapsed": true
   },
   "outputs": [],
   "source": [
    "df_COUNTY['AVG_NETMIG'] = (df_COUNTY['NETMIG2010']/df_COUNTY['POPESTIMATE2010'] + df_COUNTY['NETMIG2011']/df['POPESTIMATE2011'] +\n",
    "df_COUNTY['NETMIG2012']/df_COUNTY['POPESTIMATE2012'] + df_COUNTY['NETMIG2013']/df_COUNTY['POPESTIMATE2013'] +\n",
    "df_COUNTY['NETMIG2014']/df_COUNTY['POPESTIMATE2014'] + df_COUNTY['NETMIG2015']/df_COUNTY['POPESTIMATE2015'] +\n",
    "df_COUNTY['NETMIG2015']/df_COUNTY['POPESTIMATE2015'])/7"
   ]
  },
  {
   "cell_type": "code",
   "execution_count": 21,
   "metadata": {},
   "outputs": [
    {
     "data": {
      "text/html": [
       "<div>\n",
       "<style>\n",
       "    .dataframe thead tr:only-child th {\n",
       "        text-align: right;\n",
       "    }\n",
       "\n",
       "    .dataframe thead th {\n",
       "        text-align: left;\n",
       "    }\n",
       "\n",
       "    .dataframe tbody tr th {\n",
       "        vertical-align: top;\n",
       "    }\n",
       "</style>\n",
       "<table border=\"1\" class=\"dataframe\">\n",
       "  <thead>\n",
       "    <tr style=\"text-align: right;\">\n",
       "      <th></th>\n",
       "      <th>SUMLEV</th>\n",
       "      <th>REGION</th>\n",
       "      <th>DIVISION</th>\n",
       "      <th>STATE</th>\n",
       "      <th>COUNTY</th>\n",
       "      <th>STNAME</th>\n",
       "      <th>CTYNAME</th>\n",
       "      <th>CENSUS2010POP</th>\n",
       "      <th>ESTIMATESBASE2010</th>\n",
       "      <th>POPESTIMATE2010</th>\n",
       "      <th>...</th>\n",
       "      <th>RDOMESTICMIG2014</th>\n",
       "      <th>RDOMESTICMIG2015</th>\n",
       "      <th>RDOMESTICMIG2016</th>\n",
       "      <th>RNETMIG2011</th>\n",
       "      <th>RNETMIG2012</th>\n",
       "      <th>RNETMIG2013</th>\n",
       "      <th>RNETMIG2014</th>\n",
       "      <th>RNETMIG2015</th>\n",
       "      <th>RNETMIG2016</th>\n",
       "      <th>AVG_NETMIG</th>\n",
       "    </tr>\n",
       "  </thead>\n",
       "  <tbody>\n",
       "    <tr>\n",
       "      <th>0</th>\n",
       "      <td>40</td>\n",
       "      <td>3</td>\n",
       "      <td>6</td>\n",
       "      <td>1</td>\n",
       "      <td>0</td>\n",
       "      <td>Alabama</td>\n",
       "      <td>Alabama</td>\n",
       "      <td>4779736</td>\n",
       "      <td>4780131</td>\n",
       "      <td>4785492</td>\n",
       "      <td>...</td>\n",
       "      <td>0.086842</td>\n",
       "      <td>-0.642255</td>\n",
       "      <td>-0.177829</td>\n",
       "      <td>0.709411</td>\n",
       "      <td>1.062617</td>\n",
       "      <td>1.202226</td>\n",
       "      <td>1.065267</td>\n",
       "      <td>0.41167</td>\n",
       "      <td>0.797351</td>\n",
       "      <td>0.003574</td>\n",
       "    </tr>\n",
       "  </tbody>\n",
       "</table>\n",
       "<p>1 rows × 117 columns</p>\n",
       "</div>"
      ],
      "text/plain": [
       "   SUMLEV  REGION  DIVISION  STATE  COUNTY   STNAME  CTYNAME  CENSUS2010POP  \\\n",
       "0      40       3         6      1       0  Alabama  Alabama        4779736   \n",
       "\n",
       "   ESTIMATESBASE2010  POPESTIMATE2010     ...      RDOMESTICMIG2014  \\\n",
       "0            4780131          4785492     ...              0.086842   \n",
       "\n",
       "   RDOMESTICMIG2015  RDOMESTICMIG2016  RNETMIG2011  RNETMIG2012  RNETMIG2013  \\\n",
       "0         -0.642255         -0.177829     0.709411     1.062617     1.202226   \n",
       "\n",
       "   RNETMIG2014  RNETMIG2015  RNETMIG2016  AVG_NETMIG  \n",
       "0     1.065267      0.41167     0.797351    0.003574  \n",
       "\n",
       "[1 rows x 117 columns]"
      ]
     },
     "execution_count": 21,
     "metadata": {},
     "output_type": "execute_result"
    }
   ],
   "source": [
    "df_COUNTY.head(1)"
   ]
  },
  {
   "cell_type": "markdown",
   "metadata": {},
   "source": [
    "<p>Now let's look at population change.</p>"
   ]
  },
  {
   "cell_type": "code",
   "execution_count": 22,
   "metadata": {
    "collapsed": true
   },
   "outputs": [],
   "source": [
    "df_COUNTY['POP_CHANGE'] = (df_COUNTY['POPESTIMATE2016'] - df_COUNTY['POPESTIMATE2010']) / df_COUNTY['POPESTIMATE2010']"
   ]
  },
  {
   "cell_type": "code",
   "execution_count": 23,
   "metadata": {},
   "outputs": [
    {
     "data": {
      "text/html": [
       "<div>\n",
       "<style>\n",
       "    .dataframe thead tr:only-child th {\n",
       "        text-align: right;\n",
       "    }\n",
       "\n",
       "    .dataframe thead th {\n",
       "        text-align: left;\n",
       "    }\n",
       "\n",
       "    .dataframe tbody tr th {\n",
       "        vertical-align: top;\n",
       "    }\n",
       "</style>\n",
       "<table border=\"1\" class=\"dataframe\">\n",
       "  <thead>\n",
       "    <tr style=\"text-align: right;\">\n",
       "      <th></th>\n",
       "      <th>SUMLEV</th>\n",
       "      <th>REGION</th>\n",
       "      <th>DIVISION</th>\n",
       "      <th>STATE</th>\n",
       "      <th>COUNTY</th>\n",
       "      <th>STNAME</th>\n",
       "      <th>CTYNAME</th>\n",
       "      <th>CENSUS2010POP</th>\n",
       "      <th>ESTIMATESBASE2010</th>\n",
       "      <th>POPESTIMATE2010</th>\n",
       "      <th>...</th>\n",
       "      <th>RDOMESTICMIG2015</th>\n",
       "      <th>RDOMESTICMIG2016</th>\n",
       "      <th>RNETMIG2011</th>\n",
       "      <th>RNETMIG2012</th>\n",
       "      <th>RNETMIG2013</th>\n",
       "      <th>RNETMIG2014</th>\n",
       "      <th>RNETMIG2015</th>\n",
       "      <th>RNETMIG2016</th>\n",
       "      <th>AVG_NETMIG</th>\n",
       "      <th>POP_CHANGE</th>\n",
       "    </tr>\n",
       "  </thead>\n",
       "  <tbody>\n",
       "    <tr>\n",
       "      <th>0</th>\n",
       "      <td>40</td>\n",
       "      <td>3</td>\n",
       "      <td>6</td>\n",
       "      <td>1</td>\n",
       "      <td>0</td>\n",
       "      <td>Alabama</td>\n",
       "      <td>Alabama</td>\n",
       "      <td>4779736</td>\n",
       "      <td>4780131</td>\n",
       "      <td>4785492</td>\n",
       "      <td>...</td>\n",
       "      <td>-0.642255</td>\n",
       "      <td>-0.177829</td>\n",
       "      <td>0.709411</td>\n",
       "      <td>1.062617</td>\n",
       "      <td>1.202226</td>\n",
       "      <td>1.065267</td>\n",
       "      <td>0.41167</td>\n",
       "      <td>0.797351</td>\n",
       "      <td>0.003574</td>\n",
       "      <td>0.016259</td>\n",
       "    </tr>\n",
       "  </tbody>\n",
       "</table>\n",
       "<p>1 rows × 118 columns</p>\n",
       "</div>"
      ],
      "text/plain": [
       "   SUMLEV  REGION  DIVISION  STATE  COUNTY   STNAME  CTYNAME  CENSUS2010POP  \\\n",
       "0      40       3         6      1       0  Alabama  Alabama        4779736   \n",
       "\n",
       "   ESTIMATESBASE2010  POPESTIMATE2010     ...      RDOMESTICMIG2015  \\\n",
       "0            4780131          4785492     ...             -0.642255   \n",
       "\n",
       "   RDOMESTICMIG2016  RNETMIG2011  RNETMIG2012  RNETMIG2013  RNETMIG2014  \\\n",
       "0         -0.177829     0.709411     1.062617     1.202226     1.065267   \n",
       "\n",
       "   RNETMIG2015  RNETMIG2016  AVG_NETMIG  POP_CHANGE  \n",
       "0      0.41167     0.797351    0.003574    0.016259  \n",
       "\n",
       "[1 rows x 118 columns]"
      ]
     },
     "execution_count": 23,
     "metadata": {},
     "output_type": "execute_result"
    }
   ],
   "source": [
    "df_COUNTY.head(1)"
   ]
  },
  {
   "cell_type": "markdown",
   "metadata": {},
   "source": [
    "<p>And again, despite some questions about births as an indicator, let's add births per capita to this whole mix.</p>"
   ]
  },
  {
   "cell_type": "code",
   "execution_count": 24,
   "metadata": {
    "collapsed": true
   },
   "outputs": [],
   "source": [
    "df_COUNTY['BIRTHS_PER_CAPITA'] = df_COUNTY['BIRTHS2016']/df_COUNTY['POPESTIMATE2016']"
   ]
  },
  {
   "cell_type": "code",
   "execution_count": 25,
   "metadata": {},
   "outputs": [
    {
     "data": {
      "text/html": [
       "<div>\n",
       "<style>\n",
       "    .dataframe thead tr:only-child th {\n",
       "        text-align: right;\n",
       "    }\n",
       "\n",
       "    .dataframe thead th {\n",
       "        text-align: left;\n",
       "    }\n",
       "\n",
       "    .dataframe tbody tr th {\n",
       "        vertical-align: top;\n",
       "    }\n",
       "</style>\n",
       "<table border=\"1\" class=\"dataframe\">\n",
       "  <thead>\n",
       "    <tr style=\"text-align: right;\">\n",
       "      <th></th>\n",
       "      <th>SUMLEV</th>\n",
       "      <th>REGION</th>\n",
       "      <th>DIVISION</th>\n",
       "      <th>STATE</th>\n",
       "      <th>COUNTY</th>\n",
       "      <th>STNAME</th>\n",
       "      <th>CTYNAME</th>\n",
       "      <th>CENSUS2010POP</th>\n",
       "      <th>ESTIMATESBASE2010</th>\n",
       "      <th>POPESTIMATE2010</th>\n",
       "      <th>...</th>\n",
       "      <th>RDOMESTICMIG2016</th>\n",
       "      <th>RNETMIG2011</th>\n",
       "      <th>RNETMIG2012</th>\n",
       "      <th>RNETMIG2013</th>\n",
       "      <th>RNETMIG2014</th>\n",
       "      <th>RNETMIG2015</th>\n",
       "      <th>RNETMIG2016</th>\n",
       "      <th>AVG_NETMIG</th>\n",
       "      <th>POP_CHANGE</th>\n",
       "      <th>BIRTHS_PER_CAPITA</th>\n",
       "    </tr>\n",
       "  </thead>\n",
       "  <tbody>\n",
       "    <tr>\n",
       "      <th>0</th>\n",
       "      <td>40</td>\n",
       "      <td>3</td>\n",
       "      <td>6</td>\n",
       "      <td>1</td>\n",
       "      <td>0</td>\n",
       "      <td>Alabama</td>\n",
       "      <td>Alabama</td>\n",
       "      <td>4779736</td>\n",
       "      <td>4780131</td>\n",
       "      <td>4785492</td>\n",
       "      <td>...</td>\n",
       "      <td>-0.177829</td>\n",
       "      <td>0.709411</td>\n",
       "      <td>1.062617</td>\n",
       "      <td>1.202226</td>\n",
       "      <td>1.065267</td>\n",
       "      <td>0.41167</td>\n",
       "      <td>0.797351</td>\n",
       "      <td>0.003574</td>\n",
       "      <td>0.016259</td>\n",
       "      <td>0.01204</td>\n",
       "    </tr>\n",
       "  </tbody>\n",
       "</table>\n",
       "<p>1 rows × 119 columns</p>\n",
       "</div>"
      ],
      "text/plain": [
       "   SUMLEV  REGION  DIVISION  STATE  COUNTY   STNAME  CTYNAME  CENSUS2010POP  \\\n",
       "0      40       3         6      1       0  Alabama  Alabama        4779736   \n",
       "\n",
       "   ESTIMATESBASE2010  POPESTIMATE2010        ...          RDOMESTICMIG2016  \\\n",
       "0            4780131          4785492        ...                 -0.177829   \n",
       "\n",
       "   RNETMIG2011  RNETMIG2012  RNETMIG2013  RNETMIG2014  RNETMIG2015  \\\n",
       "0     0.709411     1.062617     1.202226     1.065267      0.41167   \n",
       "\n",
       "   RNETMIG2016  AVG_NETMIG  POP_CHANGE  BIRTHS_PER_CAPITA  \n",
       "0     0.797351    0.003574    0.016259            0.01204  \n",
       "\n",
       "[1 rows x 119 columns]"
      ]
     },
     "execution_count": 25,
     "metadata": {},
     "output_type": "execute_result"
    }
   ],
   "source": [
    "df_COUNTY.head(1)"
   ]
  },
  {
   "cell_type": "code",
   "execution_count": 31,
   "metadata": {},
   "outputs": [
    {
     "data": {
      "text/html": [
       "<div>\n",
       "<style>\n",
       "    .dataframe thead tr:only-child th {\n",
       "        text-align: right;\n",
       "    }\n",
       "\n",
       "    .dataframe thead th {\n",
       "        text-align: left;\n",
       "    }\n",
       "\n",
       "    .dataframe tbody tr th {\n",
       "        vertical-align: top;\n",
       "    }\n",
       "</style>\n",
       "<table border=\"1\" class=\"dataframe\">\n",
       "  <thead>\n",
       "    <tr style=\"text-align: right;\">\n",
       "      <th></th>\n",
       "      <th>SUMLEV</th>\n",
       "      <th>REGION</th>\n",
       "      <th>DIVISION</th>\n",
       "      <th>STATE</th>\n",
       "      <th>COUNTY</th>\n",
       "      <th>STNAME</th>\n",
       "      <th>CTYNAME</th>\n",
       "      <th>CENSUS2010POP</th>\n",
       "      <th>ESTIMATESBASE2010</th>\n",
       "      <th>POPESTIMATE2010</th>\n",
       "      <th>...</th>\n",
       "      <th>RDOMESTICMIG2016</th>\n",
       "      <th>RNETMIG2011</th>\n",
       "      <th>RNETMIG2012</th>\n",
       "      <th>RNETMIG2013</th>\n",
       "      <th>RNETMIG2014</th>\n",
       "      <th>RNETMIG2015</th>\n",
       "      <th>RNETMIG2016</th>\n",
       "      <th>AVG_NETMIG</th>\n",
       "      <th>POP_CHANGE</th>\n",
       "      <th>BIRTHS_PER_CAPITA</th>\n",
       "    </tr>\n",
       "  </thead>\n",
       "  <tbody>\n",
       "    <tr>\n",
       "      <th>935</th>\n",
       "      <td>50</td>\n",
       "      <td>2</td>\n",
       "      <td>4</td>\n",
       "      <td>20</td>\n",
       "      <td>61</td>\n",
       "      <td>Kansas</td>\n",
       "      <td>Geary County</td>\n",
       "      <td>34362</td>\n",
       "      <td>34362</td>\n",
       "      <td>35284</td>\n",
       "      <td>...</td>\n",
       "      <td>-67.137955</td>\n",
       "      <td>-24.821138</td>\n",
       "      <td>50.185671</td>\n",
       "      <td>-52.458578</td>\n",
       "      <td>-29.819912</td>\n",
       "      <td>-15.448733</td>\n",
       "      <td>-62.177023</td>\n",
       "      <td>-0.010968</td>\n",
       "      <td>0.008559</td>\n",
       "      <td>0.030012</td>\n",
       "    </tr>\n",
       "    <tr>\n",
       "      <th>2971</th>\n",
       "      <td>50</td>\n",
       "      <td>3</td>\n",
       "      <td>5</td>\n",
       "      <td>51</td>\n",
       "      <td>600</td>\n",
       "      <td>Virginia</td>\n",
       "      <td>Fairfax city</td>\n",
       "      <td>22565</td>\n",
       "      <td>22542</td>\n",
       "      <td>22596</td>\n",
       "      <td>...</td>\n",
       "      <td>-9.355357</td>\n",
       "      <td>-2.119580</td>\n",
       "      <td>13.002596</td>\n",
       "      <td>12.469202</td>\n",
       "      <td>-4.461346</td>\n",
       "      <td>-3.766399</td>\n",
       "      <td>-0.668240</td>\n",
       "      <td>NaN</td>\n",
       "      <td>0.069393</td>\n",
       "      <td>0.028886</td>\n",
       "    </tr>\n",
       "    <tr>\n",
       "      <th>596</th>\n",
       "      <td>50</td>\n",
       "      <td>4</td>\n",
       "      <td>8</td>\n",
       "      <td>16</td>\n",
       "      <td>65</td>\n",
       "      <td>Idaho</td>\n",
       "      <td>Madison County</td>\n",
       "      <td>37536</td>\n",
       "      <td>37549</td>\n",
       "      <td>37605</td>\n",
       "      <td>...</td>\n",
       "      <td>-2.126005</td>\n",
       "      <td>-15.254237</td>\n",
       "      <td>-30.326666</td>\n",
       "      <td>-28.685153</td>\n",
       "      <td>-14.821273</td>\n",
       "      <td>-26.604685</td>\n",
       "      <td>-0.622245</td>\n",
       "      <td>-0.019215</td>\n",
       "      <td>0.038373</td>\n",
       "      <td>0.028350</td>\n",
       "    </tr>\n",
       "  </tbody>\n",
       "</table>\n",
       "<p>3 rows × 119 columns</p>\n",
       "</div>"
      ],
      "text/plain": [
       "      SUMLEV  REGION  DIVISION  STATE  COUNTY    STNAME         CTYNAME  \\\n",
       "935       50       2         4     20      61    Kansas    Geary County   \n",
       "2971      50       3         5     51     600  Virginia    Fairfax city   \n",
       "596       50       4         8     16      65     Idaho  Madison County   \n",
       "\n",
       "      CENSUS2010POP  ESTIMATESBASE2010  POPESTIMATE2010        ...          \\\n",
       "935           34362              34362            35284        ...           \n",
       "2971          22565              22542            22596        ...           \n",
       "596           37536              37549            37605        ...           \n",
       "\n",
       "      RDOMESTICMIG2016  RNETMIG2011  RNETMIG2012  RNETMIG2013  RNETMIG2014  \\\n",
       "935         -67.137955   -24.821138    50.185671   -52.458578   -29.819912   \n",
       "2971         -9.355357    -2.119580    13.002596    12.469202    -4.461346   \n",
       "596          -2.126005   -15.254237   -30.326666   -28.685153   -14.821273   \n",
       "\n",
       "      RNETMIG2015  RNETMIG2016  AVG_NETMIG  POP_CHANGE  BIRTHS_PER_CAPITA  \n",
       "935    -15.448733   -62.177023   -0.010968    0.008559           0.030012  \n",
       "2971    -3.766399    -0.668240         NaN    0.069393           0.028886  \n",
       "596    -26.604685    -0.622245   -0.019215    0.038373           0.028350  \n",
       "\n",
       "[3 rows x 119 columns]"
      ]
     },
     "execution_count": 31,
     "metadata": {},
     "output_type": "execute_result"
    }
   ],
   "source": [
    "df_COUNTY.sort_values(\"BIRTHS_PER_CAPITA\", ascending=False).head(3)"
   ]
  },
  {
   "cell_type": "markdown",
   "metadata": {},
   "source": [
    "<p>Hmmmm. Some very interesting counties ranking high there!</p>\n",
    "<p>Let's leave that, and look at some economic statistics</p>"
   ]
  },
  {
   "cell_type": "markdown",
   "metadata": {},
   "source": [
    "### Unemployment Rate\n",
    "<p>Data is courtesy of the [U.S. Bureau of Labor Statistics](https://www.bls.gov/lau/#cntyaa)."
   ]
  },
  {
   "cell_type": "code",
   "execution_count": 40,
   "metadata": {
    "collapsed": true
   },
   "outputs": [],
   "source": [
    "EMPLOYMENT = pd.read_csv(\"/Users/alexmahadevan/Desktop/Projects/Raise a Family/laucnty16.csv\")"
   ]
  },
  {
   "cell_type": "code",
   "execution_count": null,
   "metadata": {},
   "outputs": [],
   "source": []
  },
  {
   "cell_type": "code",
   "execution_count": null,
   "metadata": {
    "collapsed": true
   },
   "outputs": [],
   "source": []
  }
 ],
 "metadata": {
  "kernelspec": {
   "display_name": "Python 2",
   "language": "python",
   "name": "python2"
  },
  "language_info": {
   "codemirror_mode": {
    "name": "ipython",
    "version": 2
   },
   "file_extension": ".py",
   "mimetype": "text/x-python",
   "name": "python",
   "nbconvert_exporter": "python",
   "pygments_lexer": "ipython2",
   "version": "2.7.10"
  }
 },
 "nbformat": 4,
 "nbformat_minor": 2
}
