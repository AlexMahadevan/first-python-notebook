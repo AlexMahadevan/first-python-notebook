{
 "cells": [
  {
   "cell_type": "markdown",
   "metadata": {},
   "source": [
    "# ‘Affordable Places to Raise a Family’ Analysis\n",
    "\n",
    "by Alex Mahadevan, Age 29"
   ]
  },
  {
   "cell_type": "code",
   "execution_count": 1,
   "metadata": {
    "collapsed": true
   },
   "outputs": [],
   "source": [
    "import pandas as pd"
   ]
  },
  {
   "cell_type": "markdown",
   "metadata": {},
   "source": [
    "### Population, Migration and Births\n",
    "\n",
    "<p>Let's read in the population dataset from 2010 - 2016. As a plus it has births and migration data we can use in the analysis.</p>\n",
    "<p>Data is courtesy of the [U.S. Census Bureau](https://www2.census.gov/programs-surveys/popest/datasets/2010-2016/metro/totals/cbsa-est2016-alldata.csv).</p>"
   ]
  },
  {
   "cell_type": "code",
   "execution_count": 2,
   "metadata": {
    "collapsed": true
   },
   "outputs": [],
   "source": [
    "df = pd.read_csv(\"/Users/alexmahadevan/Desktop/Projects/Raise a Family/cbsa-est2016-alldata.csv\")"
   ]
  },
  {
   "cell_type": "markdown",
   "metadata": {},
   "source": [
    "<p>If people are moving to a county or metropolitan area, that probably means it's a good place to live.</p>\n",
    "\n",
    "<p>So we'll go ahead and create a new variable that takes into account the average annual net migration to a region called AVG_NETMIG. The higher the number, the greater average migration to the municipality.</p>\n",
    "<p>But, wait. Won't way more people be moving to a huge city like Miami than a smaller one like Sarasota?</p>\n",
    "<p>To control for population amount, let's find the net migration per capita by diving net migration in each year by the population estimate for that year.</p>"
   ]
  },
  {
   "cell_type": "code",
   "execution_count": 20,
   "metadata": {
    "collapsed": true
   },
   "outputs": [],
   "source": [
    "df['AVG_NETMIG'] = (df['NETMIG2010']/df['POPESTIMATE2010'] + df['NETMIG2011']/df['POPESTIMATE2011'] +\n",
    "df['NETMIG2012']/df['POPESTIMATE2012'] + df['NETMIG2013']/df['POPESTIMATE2013'] +\n",
    "df['NETMIG2014']/df['POPESTIMATE2014'] + df['NETMIG2015']/df['POPESTIMATE2015'] +\n",
    "df['NETMIG2015']/df['POPESTIMATE2015'])/7"
   ]
  },
  {
   "cell_type": "markdown",
   "metadata": {},
   "source": [
    "<p>But, we also want to take into account the overall change in population between 2010 and 2016</p>\n",
    "\n",
    "<p>So we will create a new variable called POP_CHANGE</p>"
   ]
  },
  {
   "cell_type": "code",
   "execution_count": 8,
   "metadata": {
    "collapsed": true
   },
   "outputs": [],
   "source": [
    "df['POP_CHANGE'] = (df['POPESTIMATE2016'] - df['POPESTIMATE2010']) / df['POPESTIMATE2010']"
   ]
  },
  {
   "cell_type": "markdown",
   "metadata": {},
   "source": [
    "<p>You probably want to raise a family where other people hare raising a family right?</p>\n",
    "<p>This statistics may not be the best (since sometimes high birth rates correlate with poverty), but let's create a new variable for births per capita for 2016.</p>\n",
    "<p>We shall call it BIRTHS_PER_CAPITA.</p>"
   ]
  },
  {
   "cell_type": "code",
   "execution_count": 14,
   "metadata": {
    "collapsed": true
   },
   "outputs": [],
   "source": [
    "df['BIRTHS_PER_CAPITA'] = df['BIRTHS2016']/df['POPESTIMATE2016']"
   ]
  },
  {
   "cell_type": "markdown",
   "metadata": {},
   "source": [
    "<p>Are there any other variables we can create that would be important to someone looking to raise a family?</p>\n",
    "\n",
    "<p>Not from this dataset, but while we're thinking about it, let's drill it down to the 382 metropolitan statistical areas.</p>\n",
    "\n",
    "<p>First, let's count the number of types in the variable LSAD to make sure we have 382.</p>"
   ]
  },
  {
   "cell_type": "code",
   "execution_count": 23,
   "metadata": {},
   "outputs": [
    {
     "data": {
      "text/plain": [
       "County or equivalent             1825\n",
       "Micropolitan Statistical Area     551\n",
       "Metropolitan Statistical Area     382\n",
       "Metropolitan Division              31\n",
       "Name: LSAD, dtype: int64"
      ]
     },
     "execution_count": 23,
     "metadata": {},
     "output_type": "execute_result"
    }
   ],
   "source": [
    "df.LSAD.value_counts()"
   ]
  },
  {
   "cell_type": "markdown",
   "metadata": {},
   "source": [
    "<p>Success! Now, let's drill it down by creating a new dataframe called MSA_POP.</p>"
   ]
  },
  {
   "cell_type": "code",
   "execution_count": 24,
   "metadata": {
    "collapsed": true
   },
   "outputs": [],
   "source": [
    "MSA_POP = df[df.LSAD == 'Metropolitan Statistical Area']"
   ]
  },
  {
   "cell_type": "markdown",
   "metadata": {},
   "source": [
    "<p>Let's just leave that there for now, and explore other variables we can add to this analysis.</p>"
   ]
  },
  {
   "cell_type": "markdown",
   "metadata": {},
   "source": [
    "### Museums\n",
    "\n",
    "<p>I found a data set that has all of the museums in cities, let's have a look at that.</p>"
   ]
  },
  {
   "cell_type": "code",
   "execution_count": 26,
   "metadata": {
    "collapsed": true
   },
   "outputs": [],
   "source": [
    "MUSEUM = pd.read_csv(\"/Users/alexmahadevan/Desktop/Projects/Raise a Family/Workbook1.csv\")"
   ]
  },
  {
   "cell_type": "code",
   "execution_count": 34,
   "metadata": {},
   "outputs": [
    {
     "data": {
      "text/html": [
       "<div>\n",
       "<style>\n",
       "    .dataframe thead tr:only-child th {\n",
       "        text-align: right;\n",
       "    }\n",
       "\n",
       "    .dataframe thead th {\n",
       "        text-align: left;\n",
       "    }\n",
       "\n",
       "    .dataframe tbody tr th {\n",
       "        vertical-align: top;\n",
       "    }\n",
       "</style>\n",
       "<table border=\"1\" class=\"dataframe\">\n",
       "  <thead>\n",
       "    <tr style=\"text-align: right;\">\n",
       "      <th></th>\n",
       "      <th>ADCITY</th>\n",
       "      <th>ADSTATE</th>\n",
       "    </tr>\n",
       "  </thead>\n",
       "  <tbody>\n",
       "    <tr>\n",
       "      <th>0</th>\n",
       "      <td>SITKA</td>\n",
       "      <td>AK</td>\n",
       "    </tr>\n",
       "    <tr>\n",
       "      <th>1</th>\n",
       "      <td>KING SALMON</td>\n",
       "      <td>AK</td>\n",
       "    </tr>\n",
       "    <tr>\n",
       "      <th>2</th>\n",
       "      <td>FAIRBANKS</td>\n",
       "      <td>AK</td>\n",
       "    </tr>\n",
       "    <tr>\n",
       "      <th>3</th>\n",
       "      <td>PALMER</td>\n",
       "      <td>AK</td>\n",
       "    </tr>\n",
       "    <tr>\n",
       "      <th>4</th>\n",
       "      <td>KODIAK</td>\n",
       "      <td>AK</td>\n",
       "    </tr>\n",
       "  </tbody>\n",
       "</table>\n",
       "</div>"
      ],
      "text/plain": [
       "        ADCITY ADSTATE\n",
       "0        SITKA      AK\n",
       "1  KING SALMON      AK\n",
       "2    FAIRBANKS      AK\n",
       "3       PALMER      AK\n",
       "4       KODIAK      AK"
      ]
     },
     "execution_count": 34,
     "metadata": {},
     "output_type": "execute_result"
    }
   ],
   "source": [
    "MUSEUM.head()"
   ]
  },
  {
   "cell_type": "markdown",
   "metadata": {},
   "source": [
    "<p>As you can see, we need to concatenate the city and state variables since there are a ton of similarly named cities throughout U.S. states</p>"
   ]
  },
  {
   "cell_type": "code",
   "execution_count": 36,
   "metadata": {},
   "outputs": [],
   "source": [
    "MUSEUM['CITY'] = MUSEUM['ADCITY'] + \", \" + MUSEUM['ADSTATE']"
   ]
  },
  {
   "cell_type": "code",
   "execution_count": 37,
   "metadata": {},
   "outputs": [
    {
     "data": {
      "text/html": [
       "<div>\n",
       "<style>\n",
       "    .dataframe thead tr:only-child th {\n",
       "        text-align: right;\n",
       "    }\n",
       "\n",
       "    .dataframe thead th {\n",
       "        text-align: left;\n",
       "    }\n",
       "\n",
       "    .dataframe tbody tr th {\n",
       "        vertical-align: top;\n",
       "    }\n",
       "</style>\n",
       "<table border=\"1\" class=\"dataframe\">\n",
       "  <thead>\n",
       "    <tr style=\"text-align: right;\">\n",
       "      <th></th>\n",
       "      <th>ADCITY</th>\n",
       "      <th>ADSTATE</th>\n",
       "      <th>CITY</th>\n",
       "    </tr>\n",
       "  </thead>\n",
       "  <tbody>\n",
       "    <tr>\n",
       "      <th>0</th>\n",
       "      <td>SITKA</td>\n",
       "      <td>AK</td>\n",
       "      <td>SITKA, AK</td>\n",
       "    </tr>\n",
       "    <tr>\n",
       "      <th>1</th>\n",
       "      <td>KING SALMON</td>\n",
       "      <td>AK</td>\n",
       "      <td>KING SALMON, AK</td>\n",
       "    </tr>\n",
       "    <tr>\n",
       "      <th>2</th>\n",
       "      <td>FAIRBANKS</td>\n",
       "      <td>AK</td>\n",
       "      <td>FAIRBANKS, AK</td>\n",
       "    </tr>\n",
       "    <tr>\n",
       "      <th>3</th>\n",
       "      <td>PALMER</td>\n",
       "      <td>AK</td>\n",
       "      <td>PALMER, AK</td>\n",
       "    </tr>\n",
       "    <tr>\n",
       "      <th>4</th>\n",
       "      <td>KODIAK</td>\n",
       "      <td>AK</td>\n",
       "      <td>KODIAK, AK</td>\n",
       "    </tr>\n",
       "  </tbody>\n",
       "</table>\n",
       "</div>"
      ],
      "text/plain": [
       "        ADCITY ADSTATE             CITY\n",
       "0        SITKA      AK        SITKA, AK\n",
       "1  KING SALMON      AK  KING SALMON, AK\n",
       "2    FAIRBANKS      AK    FAIRBANKS, AK\n",
       "3       PALMER      AK       PALMER, AK\n",
       "4       KODIAK      AK       KODIAK, AK"
      ]
     },
     "execution_count": 37,
     "metadata": {},
     "output_type": "execute_result"
    }
   ],
   "source": [
    "MUSEUM.head()"
   ]
  },
  {
   "cell_type": "code",
   "execution_count": null,
   "metadata": {
    "collapsed": true
   },
   "outputs": [],
   "source": []
  }
 ],
 "metadata": {
  "kernelspec": {
   "display_name": "Python 2",
   "language": "python",
   "name": "python2"
  },
  "language_info": {
   "codemirror_mode": {
    "name": "ipython",
    "version": 2
   },
   "file_extension": ".py",
   "mimetype": "text/x-python",
   "name": "python",
   "nbconvert_exporter": "python",
   "pygments_lexer": "ipython2",
   "version": "2.7.10"
  }
 },
 "nbformat": 4,
 "nbformat_minor": 2
}
