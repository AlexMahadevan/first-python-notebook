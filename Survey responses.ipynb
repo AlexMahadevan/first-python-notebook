{
 "cells": [
  {
   "cell_type": "code",
   "execution_count": 1,
   "metadata": {
    "collapsed": true
   },
   "outputs": [],
   "source": [
    "import pandas as pd"
   ]
  },
  {
   "cell_type": "code",
   "execution_count": 3,
   "metadata": {},
   "outputs": [],
   "source": [
    "survey_results = pd.read_csv(\"/Users/alexmahadevan/Desktop/Projects/Survey/SURVEY_WITH_DUMMIES.csv\")"
   ]
  },
  {
   "cell_type": "code",
   "execution_count": 5,
   "metadata": {},
   "outputs": [
    {
     "data": {
      "text/html": [
       "<div>\n",
       "<style>\n",
       "    .dataframe thead tr:only-child th {\n",
       "        text-align: right;\n",
       "    }\n",
       "\n",
       "    .dataframe thead th {\n",
       "        text-align: left;\n",
       "    }\n",
       "\n",
       "    .dataframe tbody tr th {\n",
       "        vertical-align: top;\n",
       "    }\n",
       "</style>\n",
       "<table border=\"1\" class=\"dataframe\">\n",
       "  <thead>\n",
       "    <tr style=\"text-align: right;\">\n",
       "      <th></th>\n",
       "      <th>Response_ID</th>\n",
       "      <th>Time_Started</th>\n",
       "      <th>Date_Submitted</th>\n",
       "      <th>Status</th>\n",
       "      <th>Contact ID</th>\n",
       "      <th>Legacy Comments</th>\n",
       "      <th>Comments</th>\n",
       "      <th>Language</th>\n",
       "      <th>Referer</th>\n",
       "      <th>Extended_Referer</th>\n",
       "      <th>...</th>\n",
       "      <th>benefits_parental_leave</th>\n",
       "      <th>benefits_401k</th>\n",
       "      <th>benefits_discounts</th>\n",
       "      <th>types_of_wfh_jobs</th>\n",
       "      <th>accommodate_vision</th>\n",
       "      <th>accommodate_hearing</th>\n",
       "      <th>accommodate_cognitive</th>\n",
       "      <th>accommodate_physical</th>\n",
       "      <th>visit_jobs_page</th>\n",
       "      <th>Please offer any suggestions you have for jobs coverage at The Penny Hoarder.</th>\n",
       "    </tr>\n",
       "  </thead>\n",
       "  <tbody>\n",
       "    <tr>\n",
       "      <th>0</th>\n",
       "      <td>1</td>\n",
       "      <td>7/24/17 4:36</td>\n",
       "      <td>7/24/17 4:48</td>\n",
       "      <td>Complete</td>\n",
       "      <td>NaN</td>\n",
       "      <td>NaN</td>\n",
       "      <td>NaN</td>\n",
       "      <td>English</td>\n",
       "      <td>http://www.surveygizmo.com/s3/3720823/Work-Fro...</td>\n",
       "      <td>http://www.surveygizmo.com/s3/3720823/Work-Fro...</td>\n",
       "      <td>...</td>\n",
       "      <td>NaN</td>\n",
       "      <td>NaN</td>\n",
       "      <td>Product discounts</td>\n",
       "      <td>No preference</td>\n",
       "      <td>NaN</td>\n",
       "      <td>NaN</td>\n",
       "      <td>NaN</td>\n",
       "      <td>NaN</td>\n",
       "      <td>0.0</td>\n",
       "      <td>You actually do a pretty good job. It woukd be...</td>\n",
       "    </tr>\n",
       "  </tbody>\n",
       "</table>\n",
       "<p>1 rows × 76 columns</p>\n",
       "</div>"
      ],
      "text/plain": [
       "   Response_ID  Time_Started Date_Submitted    Status  Contact ID  \\\n",
       "0            1  7/24/17 4:36   7/24/17 4:48  Complete         NaN   \n",
       "\n",
       "   Legacy Comments  Comments Language  \\\n",
       "0              NaN       NaN  English   \n",
       "\n",
       "                                             Referer  \\\n",
       "0  http://www.surveygizmo.com/s3/3720823/Work-Fro...   \n",
       "\n",
       "                                    Extended_Referer  \\\n",
       "0  http://www.surveygizmo.com/s3/3720823/Work-Fro...   \n",
       "\n",
       "                                       ...                                       \\\n",
       "0                                      ...                                        \n",
       "\n",
       "  benefits_parental_leave benefits_401k benefits_discounts  types_of_wfh_jobs  \\\n",
       "0                     NaN           NaN  Product discounts      No preference   \n",
       "\n",
       "  accommodate_vision  accommodate_hearing  accommodate_cognitive  \\\n",
       "0                NaN                  NaN                    NaN   \n",
       "\n",
       "  accommodate_physical visit_jobs_page  \\\n",
       "0                  NaN             0.0   \n",
       "\n",
       "  Please offer any suggestions you have for jobs coverage at The Penny Hoarder.  \n",
       "0  You actually do a pretty good job. It woukd be...                             \n",
       "\n",
       "[1 rows x 76 columns]"
      ]
     },
     "execution_count": 5,
     "metadata": {},
     "output_type": "execute_result"
    }
   ],
   "source": [
    "survey_results.head(1)"
   ]
  },
  {
   "cell_type": "markdown",
   "metadata": {},
   "source": [
    "<p>Let's create a new dataframe that drops all of the partial responses.</p>\n",
    "<p>That way we don't get tripped upo with too many blank responses.</p>"
   ]
  },
  {
   "cell_type": "code",
   "execution_count": 6,
   "metadata": {
    "collapsed": true
   },
   "outputs": [],
   "source": [
    "survey_results_complete = survey_results[survey_results.Status != 'Partial']"
   ]
  },
  {
   "cell_type": "code",
   "execution_count": 35,
   "metadata": {},
   "outputs": [
    {
     "data": {
      "text/plain": [
       "Complete    2017\n",
       "Name: Status, dtype: int64"
      ]
     },
     "execution_count": 35,
     "metadata": {},
     "output_type": "execute_result"
    }
   ],
   "source": [
    "survey_results_complete.Status.value_counts()"
   ]
  },
  {
   "cell_type": "markdown",
   "metadata": {},
   "source": [
    "<p>Now, let's break the dataframe into one for just men and one for just women.</p>"
   ]
  },
  {
   "cell_type": "code",
   "execution_count": 36,
   "metadata": {},
   "outputs": [],
   "source": [
    "men = survey_results_complete[survey_results_complete.Gender == '0']"
   ]
  },
  {
   "cell_type": "code",
   "execution_count": 38,
   "metadata": {},
   "outputs": [],
   "source": [
    "women = survey_results_complete[survey_results_complete.Gender == '1']"
   ]
  },
  {
   "cell_type": "markdown",
   "metadata": {},
   "source": [
    "<p>Let's look at the disparity in salary demands between men and women.</p>"
   ]
  },
  {
   "cell_type": "code",
   "execution_count": 41,
   "metadata": {},
   "outputs": [
    {
     "data": {
      "text/html": [
       "<div>\n",
       "<style>\n",
       "    .dataframe thead tr:only-child th {\n",
       "        text-align: right;\n",
       "    }\n",
       "\n",
       "    .dataframe thead th {\n",
       "        text-align: left;\n",
       "    }\n",
       "\n",
       "    .dataframe tbody tr th {\n",
       "        vertical-align: top;\n",
       "    }\n",
       "</style>\n",
       "<table border=\"1\" class=\"dataframe\">\n",
       "  <thead>\n",
       "    <tr style=\"text-align: right;\">\n",
       "      <th></th>\n",
       "      <th>index</th>\n",
       "      <th>pay_preferred</th>\n",
       "    </tr>\n",
       "  </thead>\n",
       "  <tbody>\n",
       "    <tr>\n",
       "      <th>0</th>\n",
       "      <td>$15/hour or greater</td>\n",
       "      <td>108</td>\n",
       "    </tr>\n",
       "    <tr>\n",
       "      <th>1</th>\n",
       "      <td>$10-$12/hour</td>\n",
       "      <td>67</td>\n",
       "    </tr>\n",
       "    <tr>\n",
       "      <th>2</th>\n",
       "      <td>$12-$14/hour</td>\n",
       "      <td>53</td>\n",
       "    </tr>\n",
       "    <tr>\n",
       "      <th>3</th>\n",
       "      <td>$8-$10/hour</td>\n",
       "      <td>31</td>\n",
       "    </tr>\n",
       "    <tr>\n",
       "      <th>4</th>\n",
       "      <td>Up to $8/hour</td>\n",
       "      <td>2</td>\n",
       "    </tr>\n",
       "  </tbody>\n",
       "</table>\n",
       "</div>"
      ],
      "text/plain": [
       "                 index  pay_preferred\n",
       "0  $15/hour or greater            108\n",
       "1         $10-$12/hour             67\n",
       "2         $12-$14/hour             53\n",
       "3          $8-$10/hour             31\n",
       "4        Up to $8/hour              2"
      ]
     },
     "execution_count": 41,
     "metadata": {},
     "output_type": "execute_result"
    }
   ],
   "source": [
    "men.pay_preferred.value_counts().reset_index()"
   ]
  },
  {
   "cell_type": "code",
   "execution_count": 42,
   "metadata": {},
   "outputs": [
    {
     "data": {
      "text/html": [
       "<div>\n",
       "<style>\n",
       "    .dataframe thead tr:only-child th {\n",
       "        text-align: right;\n",
       "    }\n",
       "\n",
       "    .dataframe thead th {\n",
       "        text-align: left;\n",
       "    }\n",
       "\n",
       "    .dataframe tbody tr th {\n",
       "        vertical-align: top;\n",
       "    }\n",
       "</style>\n",
       "<table border=\"1\" class=\"dataframe\">\n",
       "  <thead>\n",
       "    <tr style=\"text-align: right;\">\n",
       "      <th></th>\n",
       "      <th>index</th>\n",
       "      <th>pay_preferred</th>\n",
       "    </tr>\n",
       "  </thead>\n",
       "  <tbody>\n",
       "    <tr>\n",
       "      <th>0</th>\n",
       "      <td>$15/hour or greater</td>\n",
       "      <td>591</td>\n",
       "    </tr>\n",
       "    <tr>\n",
       "      <th>1</th>\n",
       "      <td>$10-$12/hour</td>\n",
       "      <td>512</td>\n",
       "    </tr>\n",
       "    <tr>\n",
       "      <th>2</th>\n",
       "      <td>$12-$14/hour</td>\n",
       "      <td>361</td>\n",
       "    </tr>\n",
       "    <tr>\n",
       "      <th>3</th>\n",
       "      <td>$8-$10/hour</td>\n",
       "      <td>240</td>\n",
       "    </tr>\n",
       "    <tr>\n",
       "      <th>4</th>\n",
       "      <td>Up to $8/hour</td>\n",
       "      <td>38</td>\n",
       "    </tr>\n",
       "  </tbody>\n",
       "</table>\n",
       "</div>"
      ],
      "text/plain": [
       "                 index  pay_preferred\n",
       "0  $15/hour or greater            591\n",
       "1         $10-$12/hour            512\n",
       "2         $12-$14/hour            361\n",
       "3          $8-$10/hour            240\n",
       "4        Up to $8/hour             38"
      ]
     },
     "execution_count": 42,
     "metadata": {},
     "output_type": "execute_result"
    }
   ],
   "source": [
    "women.pay_preferred.value_counts().reset_index()"
   ]
  },
  {
   "cell_type": "code",
   "execution_count": 56,
   "metadata": {
    "collapsed": true
   },
   "outputs": [],
   "source": [
    "male_pay = men.pay_preferred.value_counts().reset_index()"
   ]
  },
  {
   "cell_type": "code",
   "execution_count": 57,
   "metadata": {
    "collapsed": true
   },
   "outputs": [],
   "source": [
    "female_pay = women.pay_preferred.value_counts().reset_index()"
   ]
  },
  {
   "cell_type": "code",
   "execution_count": 62,
   "metadata": {},
   "outputs": [],
   "source": [
    "male_pay['percent'] = male_pay['pay_preferred'] / 261"
   ]
  },
  {
   "cell_type": "code",
   "execution_count": 63,
   "metadata": {},
   "outputs": [
    {
     "data": {
      "text/html": [
       "<div>\n",
       "<style>\n",
       "    .dataframe thead tr:only-child th {\n",
       "        text-align: right;\n",
       "    }\n",
       "\n",
       "    .dataframe thead th {\n",
       "        text-align: left;\n",
       "    }\n",
       "\n",
       "    .dataframe tbody tr th {\n",
       "        vertical-align: top;\n",
       "    }\n",
       "</style>\n",
       "<table border=\"1\" class=\"dataframe\">\n",
       "  <thead>\n",
       "    <tr style=\"text-align: right;\">\n",
       "      <th></th>\n",
       "      <th>index</th>\n",
       "      <th>pay_preferred</th>\n",
       "      <th>percent</th>\n",
       "    </tr>\n",
       "  </thead>\n",
       "  <tbody>\n",
       "    <tr>\n",
       "      <th>0</th>\n",
       "      <td>$15/hour or greater</td>\n",
       "      <td>108</td>\n",
       "      <td>0.413793</td>\n",
       "    </tr>\n",
       "    <tr>\n",
       "      <th>1</th>\n",
       "      <td>$10-$12/hour</td>\n",
       "      <td>67</td>\n",
       "      <td>0.256705</td>\n",
       "    </tr>\n",
       "    <tr>\n",
       "      <th>2</th>\n",
       "      <td>$12-$14/hour</td>\n",
       "      <td>53</td>\n",
       "      <td>0.203065</td>\n",
       "    </tr>\n",
       "    <tr>\n",
       "      <th>3</th>\n",
       "      <td>$8-$10/hour</td>\n",
       "      <td>31</td>\n",
       "      <td>0.118774</td>\n",
       "    </tr>\n",
       "    <tr>\n",
       "      <th>4</th>\n",
       "      <td>Up to $8/hour</td>\n",
       "      <td>2</td>\n",
       "      <td>0.007663</td>\n",
       "    </tr>\n",
       "  </tbody>\n",
       "</table>\n",
       "</div>"
      ],
      "text/plain": [
       "                 index  pay_preferred   percent\n",
       "0  $15/hour or greater            108  0.413793\n",
       "1         $10-$12/hour             67  0.256705\n",
       "2         $12-$14/hour             53  0.203065\n",
       "3          $8-$10/hour             31  0.118774\n",
       "4        Up to $8/hour              2  0.007663"
      ]
     },
     "execution_count": 63,
     "metadata": {},
     "output_type": "execute_result"
    }
   ],
   "source": [
    "male_pay.head()"
   ]
  },
  {
   "cell_type": "code",
   "execution_count": 64,
   "metadata": {},
   "outputs": [],
   "source": [
    "female_pay['percent'] = female_pay['pay_preferred'] / 1742"
   ]
  },
  {
   "cell_type": "code",
   "execution_count": 65,
   "metadata": {},
   "outputs": [
    {
     "data": {
      "text/html": [
       "<div>\n",
       "<style>\n",
       "    .dataframe thead tr:only-child th {\n",
       "        text-align: right;\n",
       "    }\n",
       "\n",
       "    .dataframe thead th {\n",
       "        text-align: left;\n",
       "    }\n",
       "\n",
       "    .dataframe tbody tr th {\n",
       "        vertical-align: top;\n",
       "    }\n",
       "</style>\n",
       "<table border=\"1\" class=\"dataframe\">\n",
       "  <thead>\n",
       "    <tr style=\"text-align: right;\">\n",
       "      <th></th>\n",
       "      <th>index</th>\n",
       "      <th>pay_preferred</th>\n",
       "      <th>percent</th>\n",
       "    </tr>\n",
       "  </thead>\n",
       "  <tbody>\n",
       "    <tr>\n",
       "      <th>0</th>\n",
       "      <td>$15/hour or greater</td>\n",
       "      <td>591</td>\n",
       "      <td>0.339265</td>\n",
       "    </tr>\n",
       "    <tr>\n",
       "      <th>1</th>\n",
       "      <td>$10-$12/hour</td>\n",
       "      <td>512</td>\n",
       "      <td>0.293915</td>\n",
       "    </tr>\n",
       "    <tr>\n",
       "      <th>2</th>\n",
       "      <td>$12-$14/hour</td>\n",
       "      <td>361</td>\n",
       "      <td>0.207233</td>\n",
       "    </tr>\n",
       "    <tr>\n",
       "      <th>3</th>\n",
       "      <td>$8-$10/hour</td>\n",
       "      <td>240</td>\n",
       "      <td>0.137773</td>\n",
       "    </tr>\n",
       "    <tr>\n",
       "      <th>4</th>\n",
       "      <td>Up to $8/hour</td>\n",
       "      <td>38</td>\n",
       "      <td>0.021814</td>\n",
       "    </tr>\n",
       "  </tbody>\n",
       "</table>\n",
       "</div>"
      ],
      "text/plain": [
       "                 index  pay_preferred   percent\n",
       "0  $15/hour or greater            591  0.339265\n",
       "1         $10-$12/hour            512  0.293915\n",
       "2         $12-$14/hour            361  0.207233\n",
       "3          $8-$10/hour            240  0.137773\n",
       "4        Up to $8/hour             38  0.021814"
      ]
     },
     "execution_count": 65,
     "metadata": {},
     "output_type": "execute_result"
    }
   ],
   "source": [
    "female_pay.head()"
   ]
  },
  {
   "cell_type": "markdown",
   "metadata": {},
   "source": [
    "<p>Here you see that 41% of men demanded the highest wage, while only 34% of women did that.</p> Men also had a smaller preference for low wages. 12% of men said they would work for $10 or less, while 16% of women said they would.</p>"
   ]
  },
  {
   "cell_type": "code",
   "execution_count": null,
   "metadata": {
    "collapsed": true
   },
   "outputs": [],
   "source": []
  }
 ],
 "metadata": {
  "kernelspec": {
   "display_name": "Python 2",
   "language": "python",
   "name": "python2"
  },
  "language_info": {
   "codemirror_mode": {
    "name": "ipython",
    "version": 2
   },
   "file_extension": ".py",
   "mimetype": "text/x-python",
   "name": "python",
   "nbconvert_exporter": "python",
   "pygments_lexer": "ipython2",
   "version": "2.7.10"
  }
 },
 "nbformat": 4,
 "nbformat_minor": 2
}
